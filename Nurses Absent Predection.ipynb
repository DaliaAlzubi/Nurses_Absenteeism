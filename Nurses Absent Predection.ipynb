{
  "nbformat": 4,
  "nbformat_minor": 0,
  "metadata": {
    "colab": {
      "name": "Untitled23.ipynb",
      "provenance": []
    },
    "kernelspec": {
      "name": "python3",
      "display_name": "Python 3"
    },
    "accelerator": "GPU"
  },
  "cells": [
    {
      "cell_type": "markdown",
      "metadata": {
        "id": "1UJikkT0y3Fd",
        "colab_type": "text"
      },
      "source": [
        "# **Import Libraries**"
      ]
    },
    {
      "cell_type": "code",
      "metadata": {
        "id": "pPGNi1Lcxo5L",
        "colab_type": "code",
        "colab": {}
      },
      "source": [
        "import numpy as np\n",
        "import pandas as pd\n",
        "import tensorflow as tf\n",
        "import keras\n",
        "import matplotlib.pyplot as plt\n",
        "%matplotlib inline\n",
        "import seaborn as sns\n",
        "sns.set()\n",
        "from sklearn.model_selection import train_test_split\n",
        "from sklearn.metrics import accuracy_score, f1_score\n",
        "from sklearn.metrics import average_precision_score, precision_score, recall_score, roc_auc_score\n",
        "from sklearn.naive_bayes import GaussianNB\n",
        "from sklearn.linear_model import LogisticRegression\n",
        "from sklearn import tree\n",
        "from sklearn.neighbors import KNeighborsClassifier\n",
        "from sklearn.ensemble import RandomForestClassifier\n",
        "from sklearn.preprocessing import MinMaxScaler\n",
        "from xgboost import XGBClassifier, plot_importance\n",
        "from imblearn.over_sampling import SMOTE\n",
        "from keras.models import Sequential\n",
        "from keras.layers import Dense\n",
        "from keras.models import Model\n",
        "from keras.callbacks import EarlyStopping\n",
        "from keras.callbacks import ModelCheckpoint\n",
        "from keras import backend as K\n",
        "import IPython.display as ipd\n",
        "from keras.models import load_model\n",
        "from PIL import Image\n",
        "import matplotlib.image as mpimg\n",
        "import warnings\n",
        "warnings.filterwarnings('ignore')"
      ],
      "execution_count": 0,
      "outputs": []
    },
    {
      "cell_type": "markdown",
      "metadata": {
        "id": "amXL44_pz0KJ",
        "colab_type": "text"
      },
      "source": [
        "# **Upload Dataset**"
      ]
    },
    {
      "cell_type": "code",
      "metadata": {
        "id": "jJWvE1v-x5jl",
        "colab_type": "code",
        "colab": {
          "base_uri": "https://localhost:8080/",
          "height": 202
        },
        "outputId": "2f0e31db-b696-490c-e9ba-5ab515902747"
      },
      "source": [
        "data = pd.read_csv(\"/content/final_data.csv\")\n",
        "data.head()"
      ],
      "execution_count": 36,
      "outputs": [
        {
          "output_type": "execute_result",
          "data": {
            "text/html": [
              "<div>\n",
              "<style scoped>\n",
              "    .dataframe tbody tr th:only-of-type {\n",
              "        vertical-align: middle;\n",
              "    }\n",
              "\n",
              "    .dataframe tbody tr th {\n",
              "        vertical-align: top;\n",
              "    }\n",
              "\n",
              "    .dataframe thead th {\n",
              "        text-align: right;\n",
              "    }\n",
              "</style>\n",
              "<table border=\"1\" class=\"dataframe\">\n",
              "  <thead>\n",
              "    <tr style=\"text-align: right;\">\n",
              "      <th></th>\n",
              "      <th>age</th>\n",
              "      <th>marital</th>\n",
              "      <th>children</th>\n",
              "      <th>smoker</th>\n",
              "      <th>pets</th>\n",
              "      <th>disease</th>\n",
              "      <th>disease_</th>\n",
              "      <th>education</th>\n",
              "      <th>work_load</th>\n",
              "      <th>family</th>\n",
              "      <th>traffics</th>\n",
              "      <th>income_need</th>\n",
              "      <th>love_work</th>\n",
              "      <th>sociality</th>\n",
              "      <th>tough_leader</th>\n",
              "      <th>quit</th>\n",
              "      <th>tough_work</th>\n",
              "      <th>absent</th>\n",
              "    </tr>\n",
              "  </thead>\n",
              "  <tbody>\n",
              "    <tr>\n",
              "      <th>0</th>\n",
              "      <td>19.0</td>\n",
              "      <td>single</td>\n",
              "      <td>n</td>\n",
              "      <td>n</td>\n",
              "      <td>n</td>\n",
              "      <td>y</td>\n",
              "      <td>n</td>\n",
              "      <td>bachelor</td>\n",
              "      <td>moderate</td>\n",
              "      <td>n</td>\n",
              "      <td>y</td>\n",
              "      <td>n</td>\n",
              "      <td>y</td>\n",
              "      <td>y</td>\n",
              "      <td>y</td>\n",
              "      <td>n</td>\n",
              "      <td>n</td>\n",
              "      <td>1</td>\n",
              "    </tr>\n",
              "    <tr>\n",
              "      <th>1</th>\n",
              "      <td>19.0</td>\n",
              "      <td>single</td>\n",
              "      <td>n</td>\n",
              "      <td>n</td>\n",
              "      <td>n</td>\n",
              "      <td>n</td>\n",
              "      <td>n</td>\n",
              "      <td>other</td>\n",
              "      <td>moderate</td>\n",
              "      <td>n</td>\n",
              "      <td>y</td>\n",
              "      <td>n</td>\n",
              "      <td>n</td>\n",
              "      <td>n</td>\n",
              "      <td>y</td>\n",
              "      <td>n</td>\n",
              "      <td>n</td>\n",
              "      <td>1</td>\n",
              "    </tr>\n",
              "    <tr>\n",
              "      <th>2</th>\n",
              "      <td>40.0</td>\n",
              "      <td>married</td>\n",
              "      <td>y</td>\n",
              "      <td>y</td>\n",
              "      <td>n</td>\n",
              "      <td>n</td>\n",
              "      <td>n</td>\n",
              "      <td>master</td>\n",
              "      <td>low</td>\n",
              "      <td>n</td>\n",
              "      <td>n</td>\n",
              "      <td>y</td>\n",
              "      <td>y</td>\n",
              "      <td>n</td>\n",
              "      <td>n</td>\n",
              "      <td>n</td>\n",
              "      <td>y</td>\n",
              "      <td>0</td>\n",
              "    </tr>\n",
              "    <tr>\n",
              "      <th>3</th>\n",
              "      <td>36.0</td>\n",
              "      <td>married</td>\n",
              "      <td>y</td>\n",
              "      <td>n</td>\n",
              "      <td>n</td>\n",
              "      <td>n</td>\n",
              "      <td>n</td>\n",
              "      <td>bachelor</td>\n",
              "      <td>high</td>\n",
              "      <td>y</td>\n",
              "      <td>n</td>\n",
              "      <td>y</td>\n",
              "      <td>n</td>\n",
              "      <td>n</td>\n",
              "      <td>y</td>\n",
              "      <td>n</td>\n",
              "      <td>y</td>\n",
              "      <td>1</td>\n",
              "    </tr>\n",
              "    <tr>\n",
              "      <th>4</th>\n",
              "      <td>30.0</td>\n",
              "      <td>single</td>\n",
              "      <td>n</td>\n",
              "      <td>y</td>\n",
              "      <td>n</td>\n",
              "      <td>y</td>\n",
              "      <td>n</td>\n",
              "      <td>bachelor</td>\n",
              "      <td>low</td>\n",
              "      <td>n</td>\n",
              "      <td>n</td>\n",
              "      <td>y</td>\n",
              "      <td>y</td>\n",
              "      <td>y</td>\n",
              "      <td>y</td>\n",
              "      <td>n</td>\n",
              "      <td>y</td>\n",
              "      <td>0</td>\n",
              "    </tr>\n",
              "  </tbody>\n",
              "</table>\n",
              "</div>"
            ],
            "text/plain": [
              "    age  marital children smoker  ... tough_leader quit tough_work absent\n",
              "0  19.0   single        n      n  ...            y    n          n      1\n",
              "1  19.0   single        n      n  ...            y    n          n      1\n",
              "2  40.0  married        y      y  ...            n    n          y      0\n",
              "3  36.0  married        y      n  ...            y    n          y      1\n",
              "4  30.0   single        n      y  ...            y    n          y      0\n",
              "\n",
              "[5 rows x 18 columns]"
            ]
          },
          "metadata": {
            "tags": []
          },
          "execution_count": 36
        }
      ]
    },
    {
      "cell_type": "markdown",
      "metadata": {
        "id": "15aQzCXY0RB5",
        "colab_type": "text"
      },
      "source": [
        "# **Pre-processing**"
      ]
    },
    {
      "cell_type": "code",
      "metadata": {
        "id": "Ok8P-OgD0aMy",
        "colab_type": "code",
        "colab": {
          "base_uri": "https://localhost:8080/",
          "height": 222
        },
        "outputId": "b56bdc99-e321-4db2-97f7-6ad1a2f0fe37"
      },
      "source": [
        "data.loc[data['children'] == 'n', 'children'] = -1\n",
        "data.loc[data['children'] == 'y', 'children'] = 1\n",
        "data.loc[data['smoker'] == 'n', 'smoker'] = -1\n",
        "data.loc[data['smoker'] == 'y', 'smoker'] = 1\n",
        "data.loc[data['pets'] == 'n', 'pets'] = -1\n",
        "data.loc[data['pets'] == 'y', 'pets'] = 1\n",
        "data.loc[data['disease'] == 'n', 'disease'] = -1\n",
        "data.loc[data['disease'] == 'y', 'disease'] = 1\n",
        "data.loc[data['disease_'] == 'n', 'disease_'] = -1\n",
        "data.loc[data['disease_'] == 'y', 'disease_'] = 1\n",
        "data.loc[data['family'] == 'n', 'family'] = -1\n",
        "data.loc[data['family'] == 'y', 'family'] = 1\n",
        "data.loc[data['traffics'] == 'n', 'traffics'] = -1\n",
        "data.loc[data['traffics'] == 'y', 'traffics'] = 1\n",
        "data.loc[data['income_need'] == 'n', 'income_need'] = -1\n",
        "data.loc[data['income_need'] == 'y', 'income_need'] = 1\n",
        "data.loc[data['love_work'] == 'n', 'love_work'] = -1\n",
        "data.loc[data['love_work'] == 'y', 'love_work'] = 1\n",
        "data.loc[data['sociality'] == 'n', 'sociality'] = -1\n",
        "data.loc[data['sociality'] == 'y', 'sociality'] = 1\n",
        "data.loc[data['tough_leader'] == 'n', 'tough_leader'] = -1\n",
        "data.loc[data['tough_leader'] == 'y', 'tough_leader'] = 1\n",
        "data.loc[data['quit'] == 'n', 'quit'] = -1\n",
        "data.loc[data['quit'] == 'y', 'quit'] = 1\n",
        "data.loc[data['tough_work'] == 'n', 'tough_work'] = -1\n",
        "data.loc[data['tough_work'] == 'y', 'tough_work'] = 1\n",
        "lst = ['marital', 'education', 'work_load']\n",
        "remove = list()\n",
        "for i in lst:\n",
        "    if (data[i].dtype == np.str or data[i].dtype == np.object):\n",
        "        for j in data[i].unique():\n",
        "            data[i+'_'+j] = np.where(data[i] == j,1,-1)\n",
        "        remove.append(i)\n",
        "data = data.drop(remove, axis=1)\n",
        "continuous_var = ['age']\n",
        "minVec = data[continuous_var].min().copy()\n",
        "maxVec = data[continuous_var].max().copy()\n",
        "data[continuous_var] = (data[continuous_var]-minVec)/(maxVec-minVec)\n",
        "data.head()"
      ],
      "execution_count": 37,
      "outputs": [
        {
          "output_type": "execute_result",
          "data": {
            "text/html": [
              "<div>\n",
              "<style scoped>\n",
              "    .dataframe tbody tr th:only-of-type {\n",
              "        vertical-align: middle;\n",
              "    }\n",
              "\n",
              "    .dataframe tbody tr th {\n",
              "        vertical-align: top;\n",
              "    }\n",
              "\n",
              "    .dataframe thead th {\n",
              "        text-align: right;\n",
              "    }\n",
              "</style>\n",
              "<table border=\"1\" class=\"dataframe\">\n",
              "  <thead>\n",
              "    <tr style=\"text-align: right;\">\n",
              "      <th></th>\n",
              "      <th>age</th>\n",
              "      <th>children</th>\n",
              "      <th>smoker</th>\n",
              "      <th>pets</th>\n",
              "      <th>disease</th>\n",
              "      <th>disease_</th>\n",
              "      <th>family</th>\n",
              "      <th>traffics</th>\n",
              "      <th>income_need</th>\n",
              "      <th>love_work</th>\n",
              "      <th>sociality</th>\n",
              "      <th>tough_leader</th>\n",
              "      <th>quit</th>\n",
              "      <th>tough_work</th>\n",
              "      <th>absent</th>\n",
              "      <th>marital_single</th>\n",
              "      <th>marital_married</th>\n",
              "      <th>education_bachelor</th>\n",
              "      <th>education_other</th>\n",
              "      <th>education_master</th>\n",
              "      <th>work_load_moderate</th>\n",
              "      <th>work_load_low</th>\n",
              "      <th>work_load_high</th>\n",
              "    </tr>\n",
              "  </thead>\n",
              "  <tbody>\n",
              "    <tr>\n",
              "      <th>0</th>\n",
              "      <td>0.000000</td>\n",
              "      <td>-1</td>\n",
              "      <td>-1</td>\n",
              "      <td>-1</td>\n",
              "      <td>1</td>\n",
              "      <td>-1</td>\n",
              "      <td>-1</td>\n",
              "      <td>1</td>\n",
              "      <td>-1</td>\n",
              "      <td>1</td>\n",
              "      <td>1</td>\n",
              "      <td>1</td>\n",
              "      <td>-1</td>\n",
              "      <td>-1</td>\n",
              "      <td>1</td>\n",
              "      <td>1</td>\n",
              "      <td>-1</td>\n",
              "      <td>1</td>\n",
              "      <td>-1</td>\n",
              "      <td>-1</td>\n",
              "      <td>1</td>\n",
              "      <td>-1</td>\n",
              "      <td>-1</td>\n",
              "    </tr>\n",
              "    <tr>\n",
              "      <th>1</th>\n",
              "      <td>0.000000</td>\n",
              "      <td>-1</td>\n",
              "      <td>-1</td>\n",
              "      <td>-1</td>\n",
              "      <td>-1</td>\n",
              "      <td>-1</td>\n",
              "      <td>-1</td>\n",
              "      <td>1</td>\n",
              "      <td>-1</td>\n",
              "      <td>-1</td>\n",
              "      <td>-1</td>\n",
              "      <td>1</td>\n",
              "      <td>-1</td>\n",
              "      <td>-1</td>\n",
              "      <td>1</td>\n",
              "      <td>1</td>\n",
              "      <td>-1</td>\n",
              "      <td>-1</td>\n",
              "      <td>1</td>\n",
              "      <td>-1</td>\n",
              "      <td>1</td>\n",
              "      <td>-1</td>\n",
              "      <td>-1</td>\n",
              "    </tr>\n",
              "    <tr>\n",
              "      <th>2</th>\n",
              "      <td>0.777778</td>\n",
              "      <td>1</td>\n",
              "      <td>1</td>\n",
              "      <td>-1</td>\n",
              "      <td>-1</td>\n",
              "      <td>-1</td>\n",
              "      <td>-1</td>\n",
              "      <td>-1</td>\n",
              "      <td>1</td>\n",
              "      <td>1</td>\n",
              "      <td>-1</td>\n",
              "      <td>-1</td>\n",
              "      <td>-1</td>\n",
              "      <td>1</td>\n",
              "      <td>0</td>\n",
              "      <td>-1</td>\n",
              "      <td>1</td>\n",
              "      <td>-1</td>\n",
              "      <td>-1</td>\n",
              "      <td>1</td>\n",
              "      <td>-1</td>\n",
              "      <td>1</td>\n",
              "      <td>-1</td>\n",
              "    </tr>\n",
              "    <tr>\n",
              "      <th>3</th>\n",
              "      <td>0.629630</td>\n",
              "      <td>1</td>\n",
              "      <td>-1</td>\n",
              "      <td>-1</td>\n",
              "      <td>-1</td>\n",
              "      <td>-1</td>\n",
              "      <td>1</td>\n",
              "      <td>-1</td>\n",
              "      <td>1</td>\n",
              "      <td>-1</td>\n",
              "      <td>-1</td>\n",
              "      <td>1</td>\n",
              "      <td>-1</td>\n",
              "      <td>1</td>\n",
              "      <td>1</td>\n",
              "      <td>-1</td>\n",
              "      <td>1</td>\n",
              "      <td>1</td>\n",
              "      <td>-1</td>\n",
              "      <td>-1</td>\n",
              "      <td>-1</td>\n",
              "      <td>-1</td>\n",
              "      <td>1</td>\n",
              "    </tr>\n",
              "    <tr>\n",
              "      <th>4</th>\n",
              "      <td>0.407407</td>\n",
              "      <td>-1</td>\n",
              "      <td>1</td>\n",
              "      <td>-1</td>\n",
              "      <td>1</td>\n",
              "      <td>-1</td>\n",
              "      <td>-1</td>\n",
              "      <td>-1</td>\n",
              "      <td>1</td>\n",
              "      <td>1</td>\n",
              "      <td>1</td>\n",
              "      <td>1</td>\n",
              "      <td>-1</td>\n",
              "      <td>1</td>\n",
              "      <td>0</td>\n",
              "      <td>1</td>\n",
              "      <td>-1</td>\n",
              "      <td>1</td>\n",
              "      <td>-1</td>\n",
              "      <td>-1</td>\n",
              "      <td>-1</td>\n",
              "      <td>1</td>\n",
              "      <td>-1</td>\n",
              "    </tr>\n",
              "  </tbody>\n",
              "</table>\n",
              "</div>"
            ],
            "text/plain": [
              "        age  children  ...  work_load_low  work_load_high\n",
              "0  0.000000        -1  ...             -1              -1\n",
              "1  0.000000        -1  ...             -1              -1\n",
              "2  0.777778         1  ...              1              -1\n",
              "3  0.629630         1  ...             -1               1\n",
              "4  0.407407        -1  ...              1              -1\n",
              "\n",
              "[5 rows x 23 columns]"
            ]
          },
          "metadata": {
            "tags": []
          },
          "execution_count": 37
        }
      ]
    },
    {
      "cell_type": "markdown",
      "metadata": {
        "id": "kGzZV14A0nla",
        "colab_type": "text"
      },
      "source": [
        "# **Over-sampling**"
      ]
    },
    {
      "cell_type": "code",
      "metadata": {
        "id": "TQb49PgXx_HX",
        "colab_type": "code",
        "colab": {
          "base_uri": "https://localhost:8080/",
          "height": 486
        },
        "outputId": "f6138a76-9be4-4352-918a-f7ab4ccb38c0"
      },
      "source": [
        "labels = 'Absent', 'Non-absent'\n",
        "sizes = [data.absent[data['absent']==1].count(), data.absent[data['absent']==0].count()]\n",
        "explode = (0, 0.1)\n",
        "fig1, ax1 = plt.subplots(figsize=(10, 8))\n",
        "ax1.pie(sizes, explode=explode, labels=labels, autopct='%1.1f%%',shadow=True, startangle=90)\n",
        "ax1.axis('equal')\n",
        "plt.title(\"Proportion of employees Absent and Non-absent\", size = 20)\n",
        "plt.show()\n",
        "y = data['absent'].values\n",
        "x = data.drop(columns = ['absent'],axis=1)\n",
        "X, Y = SMOTE().fit_sample(x, y)\n",
        "X_train, X_test, y_train, y_test = train_test_split(X, Y, test_size=0.3, random_state=7)"
      ],
      "execution_count": 38,
      "outputs": [
        {
          "output_type": "display_data",
          "data": {
            "image/png": "[encoded data removed]",
            "text/plain": [
              "<Figure size 720x576 with 1 Axes>"
            ]
          },
          "metadata": {
            "tags": []
          }
        }
      ]
    },
    {
      "cell_type": "markdown",
      "metadata": {
        "id": "bMEg7Fah08Jw",
        "colab_type": "text"
      },
      "source": [
        "# **Machine Learning Models**"
      ]
    },
    {
      "cell_type": "code",
      "metadata": {
        "id": "OmQ9bhvNyK2m",
        "colab_type": "code",
        "colab": {
          "base_uri": "https://localhost:8080/",
          "height": 104
        },
        "outputId": "2119b052-31f5-48af-8fd2-0dd5e9567833"
      },
      "source": [
        "clf = GaussianNB()\n",
        "clf.fit(X_train, y_train)\n",
        "y_pred = clf.predict(X_test)\n",
        "print(\"Accuracy:\", accuracy_score(y_test, y_pred))\n",
        "print(\"Precision:\", precision_score(y_test, y_pred))\n",
        "print(\"Recall:\", recall_score(y_test, y_pred))\n",
        "print(\"F1:\", f1_score(y_test, y_pred))\n",
        "print(\"Area under precision Recall:\", average_precision_score(y_test, y_pred))"
      ],
      "execution_count": 39,
      "outputs": [
        {
          "output_type": "stream",
          "text": [
            "Accuracy: 0.6025641025641025\n",
            "Precision: 0.6774193548387096\n",
            "Recall: 0.5\n",
            "F1: 0.5753424657534247\n",
            "Area under precision Recall: 0.607940446650124\n"
          ],
          "name": "stdout"
        }
      ]
    },
    {
      "cell_type": "code",
      "metadata": {
        "id": "wfMkApPzyV1H",
        "colab_type": "code",
        "colab": {
          "base_uri": "https://localhost:8080/",
          "height": 104
        },
        "outputId": "1eaa6f1f-bc24-4e2a-8a09-919bcf285f15"
      },
      "source": [
        "clf = LogisticRegression()\n",
        "clf.fit(X_train, y_train)\n",
        "y_pred = clf.predict(X_test)\n",
        "print(\"Accuracy:\", accuracy_score(y_test, y_pred))\n",
        "print(\"Precision:\", precision_score(y_test, y_pred))\n",
        "print(\"Recall:\", recall_score(y_test, y_pred))\n",
        "print(\"F1:\", f1_score(y_test, y_pred))\n",
        "print(\"Area under precision Recall:\", average_precision_score(y_test, y_pred))"
      ],
      "execution_count": 40,
      "outputs": [
        {
          "output_type": "stream",
          "text": [
            "Accuracy: 0.7051282051282052\n",
            "Precision: 0.7435897435897436\n",
            "Recall: 0.6904761904761905\n",
            "F1: 0.7160493827160495\n",
            "Area under precision Recall: 0.6800976800976801\n"
          ],
          "name": "stdout"
        }
      ]
    },
    {
      "cell_type": "code",
      "metadata": {
        "id": "mMPpJvMCyYGW",
        "colab_type": "code",
        "colab": {
          "base_uri": "https://localhost:8080/",
          "height": 104
        },
        "outputId": "0a73c1dd-d794-4412-c24f-fa8269391406"
      },
      "source": [
        "clf = tree.DecisionTreeClassifier()\n",
        "clf.fit(X_train, y_train)\n",
        "y_pred = clf.predict(X_test)\n",
        "print(\"Accuracy:\", accuracy_score(y_test, y_pred))\n",
        "print(\"Precision:\", precision_score(y_test, y_pred))\n",
        "print(\"Recall:\", recall_score(y_test, y_pred))\n",
        "print(\"F1:\", f1_score(y_test, y_pred))\n",
        "print(\"Area under precision Recall:\", average_precision_score(y_test, y_pred))"
      ],
      "execution_count": 41,
      "outputs": [
        {
          "output_type": "stream",
          "text": [
            "Accuracy: 0.7564102564102564\n",
            "Precision: 0.8108108108108109\n",
            "Recall: 0.7142857142857143\n",
            "F1: 0.759493670886076\n",
            "Area under precision Recall: 0.7329967329967331\n"
          ],
          "name": "stdout"
        }
      ]
    },
    {
      "cell_type": "code",
      "metadata": {
        "id": "sod1mawcyYyf",
        "colab_type": "code",
        "colab": {
          "base_uri": "https://localhost:8080/",
          "height": 104
        },
        "outputId": "829e662b-6fe2-4e4f-ac86-b78cf85fbf85"
      },
      "source": [
        "clf = RandomForestClassifier(n_estimators = 200, random_state=200)\n",
        "clf.fit(X_train, y_train)\n",
        "y_pred = clf.predict(X_test)\n",
        "print(\"Accuracy:\", accuracy_score(y_test, y_pred))\n",
        "print(\"Precision:\", precision_score(y_test, y_pred))\n",
        "print(\"Recall:\", recall_score(y_test, y_pred))\n",
        "print(\"F1:\", f1_score(y_test, y_pred))\n",
        "print(\"Area under precision Recall:\", average_precision_score(y_test, y_pred))"
      ],
      "execution_count": 42,
      "outputs": [
        {
          "output_type": "stream",
          "text": [
            "Accuracy: 0.782051282051282\n",
            "Precision: 0.7777777777777778\n",
            "Recall: 0.8333333333333334\n",
            "F1: 0.8045977011494253\n",
            "Area under precision Recall: 0.7378917378917379\n"
          ],
          "name": "stdout"
        }
      ]
    },
    {
      "cell_type": "markdown",
      "metadata": {
        "id": "h8cVyw1x1HOl",
        "colab_type": "text"
      },
      "source": [
        "# **Artifitial Neural Network Model**"
      ]
    },
    {
      "cell_type": "code",
      "metadata": {
        "id": "GEwdM7xRyckG",
        "colab_type": "code",
        "colab": {
          "base_uri": "https://localhost:8080/",
          "height": 1000
        },
        "outputId": "05ed93df-5be1-4e84-ff43-f2e8d89d8fc7"
      },
      "source": [
        "model = Sequential()\n",
        "model.add(Dense(32, input_dim=22, kernel_initializer='uniform', activation='relu'))\n",
        "model.add(Dense(32, kernel_initializer='uniform', activation='relu'))\n",
        "model.add(Dense(32, kernel_initializer='uniform', activation='relu'))\n",
        "model.add(Dense(32, kernel_initializer='uniform', activation='relu'))\n",
        "model.add(Dense(1, kernel_initializer='uniform', activation= \"sigmoid\"))\n",
        "\n",
        "model.compile(optimizer=keras.optimizers.Adam(lr = 0.001), loss = 'binary_crossentropy', metrics=['accuracy'])\n",
        "es = EarlyStopping(monitor='val_loss', mode='min', verbose=2, patience=15)\n",
        "mc = ModelCheckpoint('model', monitor='val_loss', mode='min', verbose=2)\n",
        "history = model.fit(X_train, y_train, callbacks = [es,mc], batch_size = 4, epochs=500, validation_data = (X_test, y_test))\n",
        "prediction = model.predict(X_test)\n",
        "#accuracy_score(pred, y_test)\n",
        "accuracy = accuracy_score(y_test, prediction.round())*100\n",
        "print(accuracy)"
      ],
      "execution_count": 43,
      "outputs": [
        {
          "output_type": "stream",
          "text": [
            "Train on 180 samples, validate on 78 samples\n",
            "Epoch 1/500\n",
            "180/180 [==============================] - 1s 4ms/step - loss: 0.6933 - acc: 0.4611 - val_loss: 0.6932 - val_acc: 0.4615\n",
            "\n",
            "Epoch 00001: saving model to model\n",
            "Epoch 2/500\n",
            "180/180 [==============================] - 0s 1ms/step - loss: 0.6932 - acc: 0.4500 - val_loss: 0.6932 - val_acc: 0.4615\n",
            "\n",
            "Epoch 00002: saving model to model\n",
            "Epoch 3/500\n",
            "180/180 [==============================] - 0s 1ms/step - loss: 0.6931 - acc: 0.5167 - val_loss: 0.6933 - val_acc: 0.4615\n",
            "\n",
            "Epoch 00003: saving model to model\n",
            "Epoch 4/500\n",
            "180/180 [==============================] - 0s 1ms/step - loss: 0.6925 - acc: 0.5556 - val_loss: 0.6919 - val_acc: 0.5897\n",
            "\n",
            "Epoch 00004: saving model to model\n",
            "Epoch 5/500\n",
            "180/180 [==============================] - 0s 1ms/step - loss: 0.6847 - acc: 0.6611 - val_loss: 0.6715 - val_acc: 0.6410\n",
            "\n",
            "Epoch 00005: saving model to model\n",
            "Epoch 6/500\n",
            "180/180 [==============================] - 0s 1ms/step - loss: 0.6273 - acc: 0.7389 - val_loss: 0.6260 - val_acc: 0.6667\n",
            "\n",
            "Epoch 00006: saving model to model\n",
            "Epoch 7/500\n",
            "180/180 [==============================] - 0s 1ms/step - loss: 0.5541 - acc: 0.7611 - val_loss: 0.6047 - val_acc: 0.6923\n",
            "\n",
            "Epoch 00007: saving model to model\n",
            "Epoch 8/500\n",
            "180/180 [==============================] - 0s 1ms/step - loss: 0.5034 - acc: 0.7556 - val_loss: 0.5985 - val_acc: 0.7564\n",
            "\n",
            "Epoch 00008: saving model to model\n",
            "Epoch 9/500\n",
            "180/180 [==============================] - 0s 1ms/step - loss: 0.4698 - acc: 0.7722 - val_loss: 0.5862 - val_acc: 0.7308\n",
            "\n",
            "Epoch 00009: saving model to model\n",
            "Epoch 10/500\n",
            "180/180 [==============================] - 0s 1ms/step - loss: 0.4248 - acc: 0.8278 - val_loss: 0.5739 - val_acc: 0.7821\n",
            "\n",
            "Epoch 00010: saving model to model\n",
            "Epoch 11/500\n",
            "180/180 [==============================] - 0s 1ms/step - loss: 0.3930 - acc: 0.8500 - val_loss: 0.5851 - val_acc: 0.7179\n",
            "\n",
            "Epoch 00011: saving model to model\n",
            "Epoch 12/500\n",
            "180/180 [==============================] - 0s 1ms/step - loss: 0.3365 - acc: 0.8833 - val_loss: 0.6580 - val_acc: 0.7692\n",
            "\n",
            "Epoch 00012: saving model to model\n",
            "Epoch 13/500\n",
            "180/180 [==============================] - 0s 1ms/step - loss: 0.3265 - acc: 0.8778 - val_loss: 0.5967 - val_acc: 0.8077\n",
            "\n",
            "Epoch 00013: saving model to model\n",
            "Epoch 14/500\n",
            "180/180 [==============================] - 0s 1ms/step - loss: 0.3090 - acc: 0.8778 - val_loss: 0.5957 - val_acc: 0.7821\n",
            "\n",
            "Epoch 00014: saving model to model\n",
            "Epoch 15/500\n",
            "180/180 [==============================] - 0s 1ms/step - loss: 0.2827 - acc: 0.8778 - val_loss: 0.6990 - val_acc: 0.7564\n",
            "\n",
            "Epoch 00015: saving model to model\n",
            "Epoch 16/500\n",
            "180/180 [==============================] - 0s 1ms/step - loss: 0.3194 - acc: 0.8500 - val_loss: 0.6757 - val_acc: 0.7692\n",
            "\n",
            "Epoch 00016: saving model to model\n",
            "Epoch 17/500\n",
            "180/180 [==============================] - 0s 1ms/step - loss: 0.2504 - acc: 0.8944 - val_loss: 0.6198 - val_acc: 0.7436\n",
            "\n",
            "Epoch 00017: saving model to model\n",
            "Epoch 18/500\n",
            "180/180 [==============================] - 0s 1ms/step - loss: 0.2414 - acc: 0.9056 - val_loss: 0.6035 - val_acc: 0.7308\n",
            "\n",
            "Epoch 00018: saving model to model\n",
            "Epoch 19/500\n",
            "180/180 [==============================] - 0s 1ms/step - loss: 0.1976 - acc: 0.9000 - val_loss: 0.6101 - val_acc: 0.7564\n",
            "\n",
            "Epoch 00019: saving model to model\n",
            "Epoch 20/500\n",
            "180/180 [==============================] - 0s 1ms/step - loss: 0.1967 - acc: 0.9056 - val_loss: 0.6078 - val_acc: 0.7564\n",
            "\n",
            "Epoch 00020: saving model to model\n",
            "Epoch 21/500\n",
            "180/180 [==============================] - 0s 1ms/step - loss: 0.1544 - acc: 0.9222 - val_loss: 0.6831 - val_acc: 0.8077\n",
            "\n",
            "Epoch 00021: saving model to model\n",
            "Epoch 22/500\n",
            "180/180 [==============================] - 0s 1ms/step - loss: 0.1652 - acc: 0.9111 - val_loss: 0.8023 - val_acc: 0.6538\n",
            "\n",
            "Epoch 00022: saving model to model\n",
            "Epoch 23/500\n",
            "180/180 [==============================] - 0s 1ms/step - loss: 0.1575 - acc: 0.9278 - val_loss: 0.6535 - val_acc: 0.8205\n",
            "\n",
            "Epoch 00023: saving model to model\n",
            "Epoch 24/500\n",
            "180/180 [==============================] - 0s 1ms/step - loss: 0.1309 - acc: 0.9444 - val_loss: 0.7032 - val_acc: 0.7821\n",
            "\n",
            "Epoch 00024: saving model to model\n",
            "Epoch 25/500\n",
            "180/180 [==============================] - 0s 1ms/step - loss: 0.1204 - acc: 0.9667 - val_loss: 0.7096 - val_acc: 0.8205\n",
            "\n",
            "Epoch 00025: saving model to model\n",
            "Epoch 00025: early stopping\n",
            "82.05128205128204\n"
          ],
          "name": "stdout"
        }
      ]
    },
    {
      "cell_type": "code",
      "metadata": {
        "id": "aiMamzD1yfiW",
        "colab_type": "code",
        "colab": {
          "base_uri": "https://localhost:8080/",
          "height": 585
        },
        "outputId": "e7e930ad-aabd-4155-d3f6-b5bebecde3fa"
      },
      "source": [
        "plt.plot(history.history['acc'])\n",
        "plt.plot(history.history['val_acc'])\n",
        "plt.title('Model accuracy')\n",
        "plt.ylabel('Accuracy')\n",
        "plt.xlabel('Epoch')\n",
        "plt.legend(['Train', 'Test'], loc='upper left')\n",
        "plt.show()\n",
        "plt.plot(history.history['loss'])\n",
        "plt.plot(history.history['val_loss'])\n",
        "plt.title('Model loss')\n",
        "plt.ylabel('Loss')\n",
        "plt.xlabel('Epoch')\n",
        "plt.legend(['Train', 'Test'], loc='upper left')\n",
        "plt.show()"
      ],
      "execution_count": 46,
      "outputs": [
        {
          "output_type": "display_data",
          "data": {
            "image/png": "[encoded data removed]",
            "text/plain": [
              "<Figure size 432x288 with 1 Axes>"
            ]
          },
          "metadata": {
            "tags": []
          }
        },
        {
          "output_type": "display_data",
          "data": {
            "image/png": "[encoded data removed]",
            "text/plain": [
              "<Figure size 432x288 with 1 Axes>"
            ]
          },
          "metadata": {
            "tags": []
          }
        }
      ]
    },
    {
      "cell_type": "code",
      "metadata": {
        "id": "mhsaun8r2CMW",
        "colab_type": "code",
        "colab": {}
      },
      "source": [
        ""
      ],
      "execution_count": 0,
      "outputs": []
    }
  ]
}